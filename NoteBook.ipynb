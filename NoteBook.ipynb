{
 "cells": [
  {
   "cell_type": "code",
   "execution_count": 18,
   "metadata": {},
   "outputs": [],
   "source": [
    "# Imports\n",
    "import torch\n",
    "import torchvision\n",
    "from torchvision.datasets import MNIST\n",
    "import matplotlib.pyplot as plt\n",
    "import pandas as pd\n"
   ]
  },
  {
   "cell_type": "code",
   "execution_count": 19,
   "metadata": {},
   "outputs": [],
   "source": [
    "# Download training dataset\n",
    "dataset = MNIST(root='data/', download=True)"
   ]
  },
  {
   "cell_type": "markdown",
   "metadata": {},
   "source": [
    "### Splitting and loading of dataset"
   ]
  },
  {
   "cell_type": "code",
   "execution_count": 20,
   "metadata": {},
   "outputs": [],
   "source": [
    "# MNIST dataset (images and labels)\n",
    "import torchvision.transforms as transforms\n",
    "dataset = MNIST(root='data/',\n",
    "                train=True,\n",
    "                transform=transforms.ToTensor())"
   ]
  },
  {
   "cell_type": "code",
   "execution_count": 21,
   "metadata": {},
   "outputs": [
    {
     "data": {
      "text/plain": [
       "(50000, 10000)"
      ]
     },
     "execution_count": 21,
     "metadata": {},
     "output_type": "execute_result"
    }
   ],
   "source": [
    "from torch.utils.data import random_split\n",
    "\n",
    "train_ds, val_ds = random_split(dataset, [50000, 10000])\n",
    "len(train_ds), len(val_ds)"
   ]
  },
  {
   "cell_type": "code",
   "execution_count": 22,
   "metadata": {},
   "outputs": [
    {
     "data": {
      "text/plain": [
       "10000"
      ]
     },
     "execution_count": 22,
     "metadata": {},
     "output_type": "execute_result"
    }
   ],
   "source": [
    "test_dataset = MNIST(root='data/', train=False)\n",
    "len(test_dataset)"
   ]
  },
  {
   "cell_type": "code",
   "execution_count": 23,
   "metadata": {},
   "outputs": [],
   "source": [
    "from torch.utils.data import DataLoader\n",
    "\n",
    "batch_size = 128\n",
    "\n",
    "train_loader = DataLoader(train_ds, batch_size, shuffle=True)\n",
    "val_loader = DataLoader(val_ds, batch_size)"
   ]
  },
  {
   "cell_type": "markdown",
   "metadata": {},
   "source": [
    "### Defining the model"
   ]
  },
  {
   "cell_type": "code",
   "execution_count": 24,
   "metadata": {},
   "outputs": [],
   "source": [
    "import torch.nn as nn\n",
    "\n",
    "input_size = 28*28\n",
    "num_classes = 10      #no og outputs\n",
    "\n",
    "# Logistic regression model\n",
    "model = nn.Linear(input_size, num_classes)"
   ]
  },
  {
   "cell_type": "code",
   "execution_count": 25,
   "metadata": {},
   "outputs": [
    {
     "name": "stdout",
     "output_type": "stream",
     "text": [
      "torch.Size([10, 784])\n"
     ]
    },
    {
     "data": {
      "text/plain": [
       "Parameter containing:\n",
       "tensor([[-0.0012, -0.0094, -0.0136,  ..., -0.0072, -0.0175, -0.0201],\n",
       "        [-0.0267,  0.0153,  0.0161,  ..., -0.0237,  0.0082,  0.0335],\n",
       "        [ 0.0144, -0.0251, -0.0050,  ...,  0.0332,  0.0025,  0.0293],\n",
       "        ...,\n",
       "        [-0.0095,  0.0271,  0.0169,  ...,  0.0144,  0.0345,  0.0050],\n",
       "        [-0.0166, -0.0257,  0.0330,  ...,  0.0038,  0.0155,  0.0055],\n",
       "        [ 0.0249, -0.0230,  0.0221,  ..., -0.0122, -0.0303, -0.0039]],\n",
       "       requires_grad=True)"
      ]
     },
     "execution_count": 25,
     "metadata": {},
     "output_type": "execute_result"
    }
   ],
   "source": [
    "print(model.weight.shape)\n",
    "model.weight"
   ]
  },
  {
   "cell_type": "code",
   "execution_count": 26,
   "metadata": {},
   "outputs": [
    {
     "name": "stdout",
     "output_type": "stream",
     "text": [
      "torch.Size([10])\n"
     ]
    },
    {
     "data": {
      "text/plain": [
       "Parameter containing:\n",
       "tensor([ 0.0327, -0.0137,  0.0268, -0.0220, -0.0212,  0.0222,  0.0003,  0.0091,\n",
       "         0.0137,  0.0048], requires_grad=True)"
      ]
     },
     "execution_count": 26,
     "metadata": {},
     "output_type": "execute_result"
    }
   ],
   "source": [
    "print(model.bias.shape)\n",
    "model.bias"
   ]
  },
  {
   "cell_type": "code",
   "execution_count": 27,
   "metadata": {},
   "outputs": [
    {
     "name": "stdout",
     "output_type": "stream",
     "text": [
      "tensor([9, 2, 9, 1, 7, 3, 8, 9, 6, 6, 0, 6, 2, 4, 3, 3, 8, 9, 0, 2, 8, 9, 3, 4,\n",
      "        1, 3, 6, 4, 3, 6, 1, 7, 6, 1, 9, 7, 1, 2, 7, 3, 1, 4, 7, 6, 3, 5, 2, 5,\n",
      "        8, 8, 6, 3, 3, 3, 0, 8, 9, 3, 8, 2, 9, 4, 1, 6, 8, 5, 4, 2, 6, 2, 6, 2,\n",
      "        1, 7, 8, 7, 9, 2, 7, 1, 6, 7, 7, 3, 9, 0, 7, 3, 0, 0, 5, 0, 2, 3, 8, 9,\n",
      "        7, 1, 5, 4, 3, 6, 4, 2, 4, 9, 8, 8, 8, 9, 7, 9, 3, 6, 6, 1, 0, 7, 4, 2,\n",
      "        7, 6, 2, 3, 2, 0, 5, 1])\n",
      "torch.Size([128, 784])\n",
      "tensor([[ 0.1292, -0.1470, -0.0162,  ...,  0.0310,  0.1021,  0.3903],\n",
      "        [-0.1094, -0.1244, -0.2157,  ..., -0.0405,  0.4720, -0.0387],\n",
      "        [ 0.1389, -0.1189, -0.0691,  ...,  0.1348,  0.2073,  0.2747],\n",
      "        ...,\n",
      "        [-0.2384, -0.1600, -0.1846,  ..., -0.1717,  0.3964, -0.0491],\n",
      "        [-0.1065, -0.1591, -0.0972,  ..., -0.0522,  0.0166,  0.2811],\n",
      "        [-0.0565, -0.2478,  0.2419,  ...,  0.2340, -0.0605,  0.1283]],\n",
      "       grad_fn=<AddmmBackward0>)\n"
     ]
    }
   ],
   "source": [
    "for images, labels in train_loader:\n",
    "    # Flatten the input images\n",
    "    images = images.view(images.size(0), -1)\n",
    "    \n",
    "    # Print the labels of the current batch\n",
    "    print(labels)\n",
    "    \n",
    "    # Print the shape of the current batch of images\n",
    "    print(images.shape)\n",
    "    \n",
    "    # Pass the batch of images through the model to get outputs\n",
    "    outputs = model(images)\n",
    "    \n",
    "    # Print the outputs\n",
    "    print(outputs)\n",
    "    \n",
    "    # Break the loop after processing the first batch\n",
    "    break\n"
   ]
  },
  {
   "cell_type": "code",
   "execution_count": 28,
   "metadata": {},
   "outputs": [
    {
     "data": {
      "text/plain": [
       "torch.Size([128, 784])"
      ]
     },
     "execution_count": 28,
     "metadata": {},
     "output_type": "execute_result"
    }
   ],
   "source": [
    "images.shape"
   ]
  },
  {
   "cell_type": "markdown",
   "metadata": {},
   "source": [
    "This need to coverted to vectors first"
   ]
  },
  {
   "cell_type": "code",
   "execution_count": 29,
   "metadata": {},
   "outputs": [
    {
     "data": {
      "text/plain": [
       "torch.Size([128, 784])"
      ]
     },
     "execution_count": 29,
     "metadata": {},
     "output_type": "execute_result"
    }
   ],
   "source": [
    "images.reshape(128, 784).shape"
   ]
  },
  {
   "cell_type": "code",
   "execution_count": 30,
   "metadata": {},
   "outputs": [],
   "source": [
    "class MnistModel(nn.Module):\n",
    "    def __init__(self):\n",
    "        super().__init__()\n",
    "        self.linear = nn.Linear(input_size, num_classes)\n",
    "\n",
    "    def forward(self, xb):\n",
    "        xb = xb.reshape(-1, 784)\n",
    "        out = self.linear(xb)\n",
    "        return out\n",
    "\n",
    "model = MnistModel()"
   ]
  },
  {
   "cell_type": "code",
   "execution_count": 31,
   "metadata": {},
   "outputs": [
    {
     "data": {
      "text/plain": [
       "Linear(in_features=784, out_features=10, bias=True)"
      ]
     },
     "execution_count": 31,
     "metadata": {},
     "output_type": "execute_result"
    }
   ],
   "source": [
    "model.linear"
   ]
  },
  {
   "cell_type": "code",
   "execution_count": 32,
   "metadata": {},
   "outputs": [
    {
     "name": "stdout",
     "output_type": "stream",
     "text": [
      "torch.Size([10, 784]) torch.Size([10])\n"
     ]
    },
    {
     "data": {
      "text/plain": [
       "[Parameter containing:\n",
       " tensor([[ 0.0201, -0.0124,  0.0209,  ..., -0.0076, -0.0060, -0.0354],\n",
       "         [-0.0040, -0.0037,  0.0168,  ...,  0.0193,  0.0052,  0.0085],\n",
       "         [ 0.0095, -0.0227, -0.0111,  ...,  0.0250,  0.0079,  0.0203],\n",
       "         ...,\n",
       "         [-0.0248,  0.0156,  0.0355,  ..., -0.0069,  0.0277,  0.0153],\n",
       "         [ 0.0062, -0.0207, -0.0153,  ..., -0.0191, -0.0305, -0.0288],\n",
       "         [ 0.0159,  0.0257, -0.0033,  ...,  0.0226,  0.0300,  0.0225]],\n",
       "        requires_grad=True),\n",
       " Parameter containing:\n",
       " tensor([-0.0192,  0.0278,  0.0100, -0.0122, -0.0190,  0.0220,  0.0197, -0.0171,\n",
       "          0.0039,  0.0322], requires_grad=True)]"
      ]
     },
     "execution_count": 32,
     "metadata": {},
     "output_type": "execute_result"
    }
   ],
   "source": [
    "print(model.linear.weight.shape, model.linear.bias.shape)\n",
    "list(model.parameters())"
   ]
  },
  {
   "cell_type": "code",
   "execution_count": 33,
   "metadata": {},
   "outputs": [
    {
     "name": "stdout",
     "output_type": "stream",
     "text": [
      "torch.Size([128, 1, 28, 28])\n",
      "outputs.shape :  torch.Size([128, 10])\n",
      "Sample outputs :\n",
      " tensor([[ 0.1294,  0.0294, -0.1810,  0.0843, -0.1909,  0.1694,  0.1028,  0.0008,\n",
      "         -0.2635,  0.1137],\n",
      "        [-0.1550,  0.0138,  0.2591, -0.0410, -0.3513,  0.0192, -0.0192,  0.0389,\n",
      "         -0.0534,  0.0140]])\n"
     ]
    }
   ],
   "source": [
    "for images, labels in train_loader:\n",
    "    print(images.shape)\n",
    "    outputs = model(images)\n",
    "    break\n",
    "\n",
    "print('outputs.shape : ', outputs.shape)\n",
    "print('Sample outputs :\\n', outputs[:2].data)"
   ]
  },
  {
   "cell_type": "code",
   "execution_count": 34,
   "metadata": {},
   "outputs": [
    {
     "name": "stdout",
     "output_type": "stream",
     "text": [
      "Sample probabilities:\n",
      " tensor([[0.1127, 0.1020, 0.0826, 0.1077, 0.0818, 0.1173, 0.1097, 0.0991, 0.0761,\n",
      "         0.1109],\n",
      "        [0.0871, 0.1031, 0.1318, 0.0976, 0.0716, 0.1037, 0.0998, 0.1058, 0.0964,\n",
      "         0.1031]])\n",
      "Sum:  1.0\n"
     ]
    }
   ],
   "source": [
    "import torch.nn.functional as F\n",
    "# Apply softmax for each output row\n",
    "probs = F.softmax(outputs, dim=1)\n",
    "\n",
    "# Look at sample probabilities\n",
    "print(\"Sample probabilities:\\n\", probs[:2].data)\n",
    "\n",
    "# Add up the probabilities of an output row\n",
    "print(\"Sum: \", torch.sum(probs[0]).item())"
   ]
  },
  {
   "cell_type": "code",
   "execution_count": 35,
   "metadata": {},
   "outputs": [
    {
     "name": "stdout",
     "output_type": "stream",
     "text": [
      "tensor([5, 2, 2, 5, 6, 9, 5, 5, 6, 5, 5, 5, 6, 0, 0, 2, 9, 3, 8, 9, 2, 6, 8, 0,\n",
      "        8, 5, 5, 2, 5, 5, 3, 2, 2, 2, 3, 5, 2, 1, 6, 6, 9, 2, 2, 5, 9, 5, 6, 2,\n",
      "        6, 2, 2, 2, 5, 1, 1, 9, 9, 6, 2, 6, 6, 0, 9, 9, 6, 6, 6, 6, 5, 2, 8, 5,\n",
      "        2, 5, 5, 5, 5, 9, 5, 8, 0, 3, 5, 8, 2, 5, 8, 9, 9, 5, 2, 7, 5, 6, 5, 2,\n",
      "        0, 6, 9, 2, 6, 5, 0, 9, 5, 0, 2, 9, 6, 6, 6, 6, 3, 2, 5, 9, 6, 2, 6, 5,\n",
      "        8, 5, 2, 2, 5, 6, 1, 2])\n",
      "tensor([0.1173, 0.1318, 0.1247, 0.1418, 0.1167, 0.1499, 0.1687, 0.1120, 0.1377,\n",
      "        0.1283, 0.1434, 0.1288, 0.1242, 0.1204, 0.1201, 0.1306, 0.1366, 0.1267,\n",
      "        0.1193, 0.1390, 0.1429, 0.1280, 0.1350, 0.1244, 0.1310, 0.1189, 0.1485,\n",
      "        0.1270, 0.1316, 0.1633, 0.1294, 0.1364, 0.1256, 0.1330, 0.1155, 0.1361,\n",
      "        0.1391, 0.1111, 0.1304, 0.1264, 0.1142, 0.1135, 0.1122, 0.1395, 0.1195,\n",
      "        0.1218, 0.1229, 0.1177, 0.1364, 0.1315, 0.1390, 0.1191, 0.1395, 0.1272,\n",
      "        0.1247, 0.1193, 0.1245, 0.1306, 0.1273, 0.1266, 0.1238, 0.1185, 0.1393,\n",
      "        0.1218, 0.1263, 0.1215, 0.1343, 0.1218, 0.1492, 0.1245, 0.1186, 0.1835,\n",
      "        0.1301, 0.1282, 0.1288, 0.1535, 0.1393, 0.1723, 0.1173, 0.1221, 0.1133,\n",
      "        0.1386, 0.1479, 0.1221, 0.1255, 0.1436, 0.1268, 0.1352, 0.1172, 0.1462,\n",
      "        0.1354, 0.1291, 0.1170, 0.1362, 0.1118, 0.1154, 0.1083, 0.1333, 0.1421,\n",
      "        0.1203, 0.1401, 0.1396, 0.1465, 0.1263, 0.1529, 0.1127, 0.1184, 0.1284,\n",
      "        0.1217, 0.1409, 0.1272, 0.1372, 0.1170, 0.1200, 0.1511, 0.1222, 0.1266,\n",
      "        0.1134, 0.1256, 0.1277, 0.1412, 0.1495, 0.1171, 0.1309, 0.1236, 0.1324,\n",
      "        0.1218, 0.1200], grad_fn=<MaxBackward0>)\n"
     ]
    }
   ],
   "source": [
    "max_probs, preds = torch.max(probs, dim=1)\n",
    "print(preds)\n",
    "print(max_probs)"
   ]
  },
  {
   "cell_type": "code",
   "execution_count": 36,
   "metadata": {},
   "outputs": [
    {
     "data": {
      "text/plain": [
       "tensor([8, 1, 1, 8, 7, 4, 0, 7, 4, 0, 2, 0, 9, 4, 3, 6, 0, 4, 5, 0, 1, 3, 4, 5,\n",
       "        5, 9, 0, 1, 2, 0, 8, 1, 6, 7, 6, 9, 4, 7, 4, 9, 8, 7, 9, 8, 9, 8, 9, 1,\n",
       "        2, 7, 5, 8, 0, 6, 4, 0, 9, 7, 3, 0, 5, 7, 0, 6, 7, 5, 9, 7, 0, 8, 9, 8,\n",
       "        6, 0, 6, 8, 6, 4, 4, 2, 8, 6, 0, 3, 1, 2, 9, 3, 5, 0, 8, 2, 3, 9, 8, 1,\n",
       "        7, 4, 2, 1, 4, 0, 2, 2, 0, 4, 1, 2, 1, 2, 5, 9, 6, 1, 5, 3, 1, 8, 9, 8,\n",
       "        3, 6, 7, 3, 5, 3, 5, 7])"
      ]
     },
     "execution_count": 36,
     "metadata": {},
     "output_type": "execute_result"
    }
   ],
   "source": [
    "labels"
   ]
  },
  {
   "cell_type": "code",
   "execution_count": 37,
   "metadata": {},
   "outputs": [],
   "source": [
    "#evaluation metric\n",
    "def accuracy(outputs, labels):\n",
    "    _, preds = torch.max(outputs, dim=1)\n",
    "    return torch.tensor(torch.sum(preds == labels).item() / len(preds))"
   ]
  },
  {
   "cell_type": "code",
   "execution_count": 38,
   "metadata": {},
   "outputs": [
    {
     "data": {
      "text/plain": [
       "tensor(0.0312)"
      ]
     },
     "execution_count": 38,
     "metadata": {},
     "output_type": "execute_result"
    }
   ],
   "source": [
    "accuracy(outputs, labels)"
   ]
  },
  {
   "cell_type": "code",
   "execution_count": 39,
   "metadata": {},
   "outputs": [],
   "source": [
    "#loss function\n",
    "loss_fn = F.cross_entropy\n",
    "#cross-entropy is the negative logarithm of the\n",
    "#predicted probability of the correct label averaged over all training samples."
   ]
  },
  {
   "cell_type": "code",
   "execution_count": 40,
   "metadata": {},
   "outputs": [
    {
     "name": "stdout",
     "output_type": "stream",
     "text": [
      "tensor(2.3098, grad_fn=<NllLossBackward0>)\n"
     ]
    }
   ],
   "source": [
    "# Loss for current batch of data\n",
    "loss = loss_fn(outputs, labels)\n",
    "print(loss)"
   ]
  },
  {
   "cell_type": "markdown",
   "metadata": {},
   "source": [
    "### Training"
   ]
  },
  {
   "cell_type": "code",
   "execution_count": 41,
   "metadata": {},
   "outputs": [],
   "source": [
    "def fit(epochs, lr, model, train_loader, val_loader, opt_func=torch.optim.SGD):\n",
    "    optimizer = opt_func(model.parameters(), lr)\n",
    "    history = [] # for recording epoch-wise results\n",
    "\n",
    "    for epoch in range(epochs):\n",
    "\n",
    "        # Training Phase\n",
    "        for batch in train_loader:\n",
    "            loss = model.training_step(batch)\n",
    "            loss.backward()\n",
    "            optimizer.step()\n",
    "            optimizer.zero_grad()\n",
    "\n",
    "        # Validation phase        #This is strictly for evaluation as we have to see how well model is generalised od sep dataset\n",
    "        #we can detect the signs of overfitting\n",
    "        result = evaluate(model, val_loader)\n",
    "        model.epoch_end(epoch, result)\n",
    "        history.append(result)\n",
    "\n",
    "    return history"
   ]
  },
  {
   "cell_type": "code",
   "execution_count": 42,
   "metadata": {},
   "outputs": [],
   "source": [
    "def evaluate(model, val_loader):\n",
    "    outputs = [model.validation_step(batch) for batch in val_loader]\n",
    "    return model.validation_epoch_end(outputs)"
   ]
  },
  {
   "cell_type": "code",
   "execution_count": 43,
   "metadata": {},
   "outputs": [],
   "source": [
    "#redefining the model\n",
    "class MnistModel(nn.Module):\n",
    "    def __init__(self):\n",
    "        super().__init__()\n",
    "        self.linear = nn.Linear(input_size, num_classes)\n",
    "\n",
    "    def forward(self, xb):\n",
    "        xb = xb.reshape(-1, 784)\n",
    "        out = self.linear(xb)\n",
    "        return out\n",
    "\n",
    "    def training_step(self, batch):\n",
    "        images, labels = batch\n",
    "        out = self(images)                  # Generate predictions\n",
    "        loss = F.cross_entropy(out, labels) # Calculate loss\n",
    "        return loss\n",
    "\n",
    "    def validation_step(self, batch):\n",
    "        images, labels = batch\n",
    "        out = self(images)                    # Generate predictions\n",
    "        loss = F.cross_entropy(out, labels)   # Calculate loss\n",
    "        acc = accuracy(out, labels)           # Calculate accuracy\n",
    "        return {'val_loss': loss, 'val_acc': acc}\n",
    "\n",
    "    def validation_epoch_end(self, outputs):\n",
    "        batch_losses = [x['val_loss'] for x in outputs]\n",
    "        epoch_loss = torch.stack(batch_losses).mean()   # Combine losses\n",
    "        batch_accs = [x['val_acc'] for x in outputs]\n",
    "        epoch_acc = torch.stack(batch_accs).mean()      # Combine accuracies\n",
    "        return {'val_loss': epoch_loss.item(), 'val_acc': epoch_acc.item()}\n",
    "\n",
    "    def epoch_end(self, epoch, result):\n",
    "        print(\"Epoch [{}], val_loss: {:.4f}, val_acc: {:.4f}\".format(epoch, result['val_loss'], result['val_acc']))\n",
    "\n",
    "model = MnistModel()"
   ]
  },
  {
   "cell_type": "code",
   "execution_count": 44,
   "metadata": {},
   "outputs": [
    {
     "data": {
      "text/plain": [
       "{'val_loss': 2.2927916049957275, 'val_acc': 0.14181171357631683}"
      ]
     },
     "execution_count": 44,
     "metadata": {},
     "output_type": "execute_result"
    }
   ],
   "source": [
    "result0 = evaluate(model, val_loader)\n",
    "result0\n",
    "#The initial accuracy is around 7%, which one might expect from a randomly\n",
    "#initialized model (since it has a 1 in 7 chance of getting a label right\n",
    "#by guessing randomly).\n",
    "\n"
   ]
  },
  {
   "cell_type": "code",
   "execution_count": 45,
   "metadata": {},
   "outputs": [
    {
     "name": "stdout",
     "output_type": "stream",
     "text": [
      "Epoch [0], val_loss: 1.9312, val_acc: 0.6810\n",
      "Epoch [1], val_loss: 1.6650, val_acc: 0.7515\n",
      "Epoch [2], val_loss: 1.4664, val_acc: 0.7761\n",
      "Epoch [3], val_loss: 1.3165, val_acc: 0.7900\n",
      "Epoch [4], val_loss: 1.2015, val_acc: 0.8012\n"
     ]
    }
   ],
   "source": [
    "history1 = fit(5, 0.001, model, train_loader, val_loader)\n",
    "#With just 5 epochs of training, our model has reached an accuracy of\n",
    "#over 80% on the validation set"
   ]
  },
  {
   "cell_type": "code",
   "execution_count": 46,
   "metadata": {},
   "outputs": [
    {
     "name": "stdout",
     "output_type": "stream",
     "text": [
      "Epoch [0], val_loss: 1.1114, val_acc: 0.8100\n",
      "Epoch [1], val_loss: 1.0391, val_acc: 0.8170\n",
      "Epoch [2], val_loss: 0.9802, val_acc: 0.8234\n",
      "Epoch [3], val_loss: 0.9311, val_acc: 0.8268\n",
      "Epoch [4], val_loss: 0.8897, val_acc: 0.8298\n"
     ]
    }
   ],
   "source": [
    "history2 = fit(5, 0.001, model, train_loader, val_loader)"
   ]
  },
  {
   "cell_type": "code",
   "execution_count": 47,
   "metadata": {},
   "outputs": [
    {
     "name": "stdout",
     "output_type": "stream",
     "text": [
      "Epoch [0], val_loss: 0.8542, val_acc: 0.8329\n",
      "Epoch [1], val_loss: 0.8235, val_acc: 0.8360\n",
      "Epoch [2], val_loss: 0.7966, val_acc: 0.8393\n",
      "Epoch [3], val_loss: 0.7729, val_acc: 0.8424\n",
      "Epoch [4], val_loss: 0.7518, val_acc: 0.8436\n"
     ]
    }
   ],
   "source": [
    "history3 = fit(5, 0.001, model, train_loader, val_loader)"
   ]
  },
  {
   "cell_type": "code",
   "execution_count": 48,
   "metadata": {},
   "outputs": [
    {
     "name": "stdout",
     "output_type": "stream",
     "text": [
      "Epoch [0], val_loss: 0.7328, val_acc: 0.8446\n",
      "Epoch [1], val_loss: 0.7157, val_acc: 0.8467\n",
      "Epoch [2], val_loss: 0.7002, val_acc: 0.8483\n",
      "Epoch [3], val_loss: 0.6860, val_acc: 0.8503\n",
      "Epoch [4], val_loss: 0.6730, val_acc: 0.8516\n"
     ]
    }
   ],
   "source": [
    "history4 = fit(5, 0.001, model, train_loader, val_loader)"
   ]
  },
  {
   "cell_type": "code",
   "execution_count": 49,
   "metadata": {},
   "outputs": [
    {
     "data": {
      "image/png": "[encoded data removed]",
      "text/plain": [
       "<Figure size 640x480 with 1 Axes>"
      ]
     },
     "metadata": {},
     "output_type": "display_data"
    }
   ],
   "source": [
    "history = [result0] + history1 + history2 + history3 + history4\n",
    "accuracies = [result['val_acc'] for result in history]\n",
    "plt.plot(accuracies, '-x')\n",
    "plt.xlabel('epoch')\n",
    "plt.ylabel('accuracy')\n",
    "plt.title('Accuracy vs. No. of epochs');"
   ]
  },
  {
   "cell_type": "code",
   "execution_count": 50,
   "metadata": {},
   "outputs": [],
   "source": [
    "# Open a file in write mode\n",
    "with open('logs.txt', 'w') as f:\n",
    "    # Write the logs to the file\n",
    "    f.write(\"Validation Accuracy: {}\\n\".format(history[-1]['val_acc']))\n",
    "    f.write(\"Validation Loss: {}\\n\".format(history[-1]['val_loss']))\n"
   ]
  },
  {
   "cell_type": "code",
   "execution_count": 51,
   "metadata": {},
   "outputs": [],
   "source": [
    "#!pip install pandas openpyxl"
   ]
  },
  {
   "cell_type": "code",
   "execution_count": 53,
   "metadata": {},
   "outputs": [],
   "source": [
    "# Create a DataFrame with the logs\n",
    "logs_df = pd.DataFrame({'Validation Accuracy': [history[-1]['val_acc']],\n",
    "                        'Validation Loss': [history[-1]['val_loss']]})\n",
    "\n",
    "# Save DataFrame to an Excel file\n",
    "logs_df.to_excel('logs.xlsx', index=False)\n"
   ]
  },
  {
   "cell_type": "markdown",
   "metadata": {},
   "source": [
    "## Testing with single images"
   ]
  },
  {
   "cell_type": "code",
   "execution_count": 56,
   "metadata": {},
   "outputs": [],
   "source": [
    "# Define test dataset\n",
    "test_dataset = MNIST(root='data/',\n",
    "                     train=False,\n",
    "                     transform=transforms.ToTensor())"
   ]
  },
  {
   "cell_type": "code",
   "execution_count": 57,
   "metadata": {},
   "outputs": [
    {
     "name": "stdout",
     "output_type": "stream",
     "text": [
      "Shape: torch.Size([1, 28, 28])\n",
      "Label: 7\n"
     ]
    },
    {
     "data": {
      "image/png": "[encoded data removed]",
      "text/plain": [
       "<Figure size 640x480 with 1 Axes>"
      ]
     },
     "metadata": {},
     "output_type": "display_data"
    }
   ],
   "source": [
    "img, label = test_dataset[0]\n",
    "plt.imshow(img[0], cmap='gray')\n",
    "print('Shape:', img.shape)\n",
    "print('Label:', label)"
   ]
  },
  {
   "cell_type": "code",
   "execution_count": 58,
   "metadata": {},
   "outputs": [],
   "source": [
    "def predict_image(img, model):\n",
    "    xb = img.unsqueeze(0) #since model works with batch data but we r using single images, we have to\n",
    "    #convert into batches\n",
    "    yb = model(xb)\n",
    "    _, preds = torch.max(yb, dim=1)\n",
    "    return preds[0].item()"
   ]
  },
  {
   "cell_type": "code",
   "execution_count": 59,
   "metadata": {},
   "outputs": [
    {
     "data": {
      "text/plain": [
       "torch.Size([1, 1, 28, 28])"
      ]
     },
     "execution_count": 59,
     "metadata": {},
     "output_type": "execute_result"
    }
   ],
   "source": [
    "img.unsqueeze(0).shape"
   ]
  },
  {
   "cell_type": "code",
   "execution_count": 60,
   "metadata": {},
   "outputs": [
    {
     "name": "stdout",
     "output_type": "stream",
     "text": [
      "Label: 7 , Predicted: 7\n"
     ]
    },
    {
     "data": {
      "image/png": "[encoded data removed]",
      "text/plain": [
       "<Figure size 640x480 with 1 Axes>"
      ]
     },
     "metadata": {},
     "output_type": "display_data"
    }
   ],
   "source": [
    "img, label = test_dataset[0]\n",
    "plt.imshow(img[0], cmap='gray')\n",
    "print('Label:', label, ', Predicted:', predict_image(img, model))"
   ]
  },
  {
   "cell_type": "code",
   "execution_count": 61,
   "metadata": {},
   "outputs": [
    {
     "name": "stdout",
     "output_type": "stream",
     "text": [
      "Label: 0 , Predicted: 0\n"
     ]
    },
    {
     "data": {
      "image/png": "[encoded data removed]",
      "text/plain": [
       "<Figure size 640x480 with 1 Axes>"
      ]
     },
     "metadata": {},
     "output_type": "display_data"
    }
   ],
   "source": [
    "img, label = test_dataset[10]\n",
    "plt.imshow(img[0], cmap='gray')\n",
    "print('Label:', label, ', Predicted:', predict_image(img, model))"
   ]
  },
  {
   "cell_type": "code",
   "execution_count": 62,
   "metadata": {},
   "outputs": [
    {
     "name": "stdout",
     "output_type": "stream",
     "text": [
      "Label: 9 , Predicted: 9\n"
     ]
    },
    {
     "data": {
      "image/png": "[encoded data removed]",
      "text/plain": [
       "<Figure size 640x480 with 1 Axes>"
      ]
     },
     "metadata": {},
     "output_type": "display_data"
    }
   ],
   "source": [
    "img, label = test_dataset[193]\n",
    "plt.imshow(img[0], cmap='gray')\n",
    "print('Label:', label, ', Predicted:', predict_image(img, model))"
   ]
  },
  {
   "cell_type": "code",
   "execution_count": 63,
   "metadata": {},
   "outputs": [
    {
     "name": "stdout",
     "output_type": "stream",
     "text": [
      "Label: 2 , Predicted: 8\n"
     ]
    },
    {
     "data": {
      "image/png": "[encoded data removed]",
      "text/plain": [
       "<Figure size 640x480 with 1 Axes>"
      ]
     },
     "metadata": {},
     "output_type": "display_data"
    }
   ],
   "source": [
    "img, label = test_dataset[1839]\n",
    "plt.imshow(img[0], cmap='gray')\n",
    "print('Label:', label, ', Predicted:', predict_image(img, model))"
   ]
  },
  {
   "cell_type": "markdown",
   "metadata": {},
   "source": [
    "##### Identifying where our model performs poorly can help us improve the model, by collecting more training data, increasing/decreasing the complexity of the model, and changing the hypeparameters.\n",
    "##### As a final step, let's also look at the overall loss and accuracy of the model on the test set."
   ]
  },
  {
   "cell_type": "code",
   "execution_count": 64,
   "metadata": {},
   "outputs": [
    {
     "data": {
      "text/plain": [
       "{'val_loss': 0.637276828289032, 'val_acc': 0.859179675579071}"
      ]
     },
     "execution_count": 64,
     "metadata": {},
     "output_type": "execute_result"
    }
   ],
   "source": [
    "test_loader = DataLoader(test_dataset, batch_size=256)\n",
    "result = evaluate(model, test_loader)\n",
    "result\n",
    "#if test_acc<val_acc, then u have bad val set"
   ]
  },
  {
   "cell_type": "markdown",
   "metadata": {},
   "source": [
    "### Let's save our weights to disk"
   ]
  },
  {
   "cell_type": "code",
   "execution_count": 65,
   "metadata": {},
   "outputs": [],
   "source": [
    "torch.save(model.state_dict(), 'mnist-logistic.pth')"
   ]
  },
  {
   "cell_type": "code",
   "execution_count": 66,
   "metadata": {},
   "outputs": [
    {
     "data": {
      "text/plain": [
       "OrderedDict([('linear.weight',\n",
       "              tensor([[ 0.0175,  0.0339,  0.0274,  ..., -0.0288, -0.0144, -0.0061],\n",
       "                      [-0.0133, -0.0131,  0.0069,  ..., -0.0280, -0.0142,  0.0156],\n",
       "                      [-0.0212,  0.0261,  0.0258,  ...,  0.0321, -0.0190,  0.0133],\n",
       "                      ...,\n",
       "                      [-0.0290, -0.0081, -0.0064,  ...,  0.0202,  0.0180,  0.0280],\n",
       "                      [ 0.0032,  0.0165,  0.0030,  ..., -0.0289, -0.0330,  0.0074],\n",
       "                      [ 0.0233, -0.0315, -0.0042,  ..., -0.0010,  0.0168,  0.0107]])),\n",
       "             ('linear.bias',\n",
       "              tensor([-0.0090,  0.1147, -0.0587, -0.0398,  0.0093,  0.0075, -0.0092,  0.0382,\n",
       "                      -0.1229, -0.0326]))])"
      ]
     },
     "execution_count": 66,
     "metadata": {},
     "output_type": "execute_result"
    }
   ],
   "source": [
    "model.state_dict()"
   ]
  },
  {
   "cell_type": "code",
   "execution_count": 67,
   "metadata": {},
   "outputs": [],
   "source": [
    "model2 = MnistModel()"
   ]
  },
  {
   "cell_type": "code",
   "execution_count": 68,
   "metadata": {},
   "outputs": [
    {
     "data": {
      "text/plain": [
       "OrderedDict([('linear.weight',\n",
       "              tensor([[ 0.0237,  0.0136, -0.0127,  ..., -0.0098, -0.0099,  0.0205],\n",
       "                      [ 0.0051,  0.0137, -0.0316,  ..., -0.0120,  0.0220,  0.0230],\n",
       "                      [-0.0275,  0.0094,  0.0078,  ..., -0.0047,  0.0038, -0.0176],\n",
       "                      ...,\n",
       "                      [-0.0092,  0.0318,  0.0037,  ...,  0.0098,  0.0307,  0.0143],\n",
       "                      [-0.0012, -0.0143, -0.0059,  ..., -0.0159, -0.0140, -0.0300],\n",
       "                      [ 0.0166, -0.0189, -0.0238,  ..., -0.0122,  0.0101,  0.0249]])),\n",
       "             ('linear.bias',\n",
       "              tensor([-0.0288,  0.0040,  0.0012, -0.0118,  0.0129, -0.0133, -0.0259, -0.0058,\n",
       "                       0.0233,  0.0175]))])"
      ]
     },
     "execution_count": 68,
     "metadata": {},
     "output_type": "execute_result"
    }
   ],
   "source": [
    "model2.state_dict()"
   ]
  },
  {
   "cell_type": "code",
   "execution_count": 69,
   "metadata": {},
   "outputs": [
    {
     "data": {
      "text/plain": [
       "{'val_loss': 2.2995707988739014, 'val_acc': 0.0888671875}"
      ]
     },
     "execution_count": 69,
     "metadata": {},
     "output_type": "execute_result"
    }
   ],
   "source": [
    "evaluate(model2, test_loader)"
   ]
  },
  {
   "cell_type": "markdown",
   "metadata": {},
   "source": [
    "### As u can see it is giving bad accuracy since we haven't used updated weights for it."
   ]
  },
  {
   "cell_type": "code",
   "execution_count": 70,
   "metadata": {},
   "outputs": [
    {
     "data": {
      "text/plain": [
       "OrderedDict([('linear.weight',\n",
       "              tensor([[ 0.0175,  0.0339,  0.0274,  ..., -0.0288, -0.0144, -0.0061],\n",
       "                      [-0.0133, -0.0131,  0.0069,  ..., -0.0280, -0.0142,  0.0156],\n",
       "                      [-0.0212,  0.0261,  0.0258,  ...,  0.0321, -0.0190,  0.0133],\n",
       "                      ...,\n",
       "                      [-0.0290, -0.0081, -0.0064,  ...,  0.0202,  0.0180,  0.0280],\n",
       "                      [ 0.0032,  0.0165,  0.0030,  ..., -0.0289, -0.0330,  0.0074],\n",
       "                      [ 0.0233, -0.0315, -0.0042,  ..., -0.0010,  0.0168,  0.0107]])),\n",
       "             ('linear.bias',\n",
       "              tensor([-0.0090,  0.1147, -0.0587, -0.0398,  0.0093,  0.0075, -0.0092,  0.0382,\n",
       "                      -0.1229, -0.0326]))])"
      ]
     },
     "execution_count": 70,
     "metadata": {},
     "output_type": "execute_result"
    }
   ],
   "source": [
    "model2.load_state_dict(torch.load('mnist-logistic.pth'))\n",
    "model2.state_dict()"
   ]
  },
  {
   "cell_type": "code",
   "execution_count": 71,
   "metadata": {},
   "outputs": [
    {
     "data": {
      "text/plain": [
       "{'val_loss': 0.637276828289032, 'val_acc': 0.859179675579071}"
      ]
     },
     "execution_count": 71,
     "metadata": {},
     "output_type": "execute_result"
    }
   ],
   "source": [
    "test_loader = DataLoader(test_dataset, batch_size=256)\n",
    "result = evaluate(model2, test_loader)\n",
    "result"
   ]
  },
  {
   "cell_type": "markdown",
   "metadata": {},
   "source": [
    "### Here we have good accuracy"
   ]
  },
  {
   "cell_type": "code",
   "execution_count": 72,
   "metadata": {},
   "outputs": [],
   "source": [
    "# Save the model\n",
    "torch.save(model.state_dict(), 'mnist-logistic.pth')\n"
   ]
  },
  {
   "cell_type": "code",
   "execution_count": null,
   "metadata": {},
   "outputs": [],
   "source": []
  }
 ],
 "metadata": {
  "kernelspec": {
   "display_name": "Python 3",
   "language": "python",
   "name": "python3"
  },
  "language_info": {
   "codemirror_mode": {
    "name": "ipython",
    "version": 3
   },
   "file_extension": ".py",
   "mimetype": "text/x-python",
   "name": "python",
   "nbconvert_exporter": "python",
   "pygments_lexer": "ipython3",
   "version": "3.11.9"
  }
 },
 "nbformat": 4,
 "nbformat_minor": 2
}
